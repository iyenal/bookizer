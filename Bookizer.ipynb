{
 "cells": [
  {
   "cell_type": "code",
   "execution_count": 6,
   "id": "surprising-canadian",
   "metadata": {},
   "outputs": [
    {
     "name": "stderr",
     "output_type": "stream",
     "text": [
      "d:\\python37\\lib\\site-packages\\ipykernel_launcher.py:13: DeprecationWarning: LANCZOS is deprecated and will be removed in Pillow 10 (2023-07-01). Use Resampling.LANCZOS instead.\n",
      "  del sys.path[0]\n"
     ]
    },
    {
     "name": "stdout",
     "output_type": "stream",
     "text": [
      "['chrome_zbNHp7qjam.png', 'chrome_qieUgfl3MO.png', 'chrome_MwSrvxGVzL.png', 'chrome_aD5VU92jPZ.png', 'chrome_ZbeslJbHtY.png', 'chrome_GoZnOmVD2S.png', 'chrome_20cB2AfT9e.png', 'chrome_kP3m3nBrD0.png', 'chrome_y1AASK0H5G.png', 'chrome_gdMikLAu1y.png', 'chrome_Kcu4iwNtKO.png', 'chrome_RTvKOF34tT.png', 'chrome_mYOu6iv71i.png', 'chrome_CJ32pWvUbs.png', 'chrome_YtMxn9bkpY.png', 'chrome_FM7KIIoZip.png', 'chrome_mJk0O0PW3s.png', 'chrome_tyjIoBKjBF.png', 'chrome_3cz7w8PyBA.png', 'chrome_5zRmd4PIo4.png', 'chrome_CimEJsJQRO.png', 'chrome_aYVF2Qbz7D.png', 'chrome_fNkpu7Chs5.png', 'chrome_nsEoZ6t0KB.png', 'chrome_EKpJHZDfFz.png', 'chrome_eC5cKaAkye.png', 'chrome_I2vkRWNA6H.png', 'chrome_QHACp9vHaY.png', 'chrome_ULSw5CLojP.png', 'chrome_yK5xtOolNi.png', 'chrome_clcX8WQtAG.png', 'chrome_mIypuwqDzD.png', 'chrome_BR7CifBBTX.png', 'chrome_A3kWIYiFY5.png', 'chrome_ttwYmaNCvr.png', 'chrome_4jNQ731PCe.png', 'chrome_Di4jjEacDD.png', 'chrome_Et9mZtdRRJ.png', 'chrome_zYseNq0ke6.png', 'chrome_2o3NaK0ekg.png', 'chrome_8U16F9mSkc.png', 'chrome_QwGh3tvHct.png', 'chrome_W2PtJRpjcw.png', 'chrome_QAZDLbd1Fw.png', 'chrome_uA2oS0ppuN.png', 'chrome_TTTfSDJAwR.png', 'chrome_cfJRZJkFjH.png', 'chrome_RLdDqjJGKJ.png', 'chrome_Po6aEQqSF0.png', 'chrome_RXwr2u7TVr.png', 'chrome_FIiLcDMRGt.png', 'chrome_n97ixxzdqq.png', 'chrome_Bq9rYTsTsy.png', 'chrome_JZfkN350ny.png', 'chrome_MbVPCTjCgz.png', 'chrome_xkRQGJfdcX.png', 'chrome_kxqb4vPdCw.png', 'chrome_x4jpfXyQJn.png', 'chrome_mfm0H0UyZz.png', 'chrome_BZ1SCzDzT2.png', 'chrome_9XxDIvtchv.png', 'chrome_NK7asElz3Z.png', 'chrome_yJSACK46FW.png', 'chrome_ix0SieVMMQ.png', 'chrome_Kj5hKBsdLO.png', 'chrome_VSWEuGrMyA.png', 'chrome_k2RBj5lkSc.png', 'chrome_FcLlR3lAvw.png', 'chrome_W74unI96hm.png', 'chrome_3kgq4SntoR.png', 'chrome_bcQ1C5erKl.png', 'chrome_vlXHayly4G.png', 'chrome_hZGExoJv7i.png', 'chrome_MBh1KhexL4.png', 'chrome_MZkSQg3WMS.png', 'chrome_pF8Q2qm3xP.png', 'chrome_tfcKZhPT6D.png', 'chrome_hUygNrDGO0.png', 'chrome_PE87wOkZlI.png', 'chrome_8BgAHR6j6E.png', 'chrome_9RiE6bRJnI.png', 'chrome_laG6HlAkkO.png', 'chrome_anVQinCL31.png', 'chrome_5uu5NaG2xj.png', 'chrome_YRcSuIaMiC.png', 'chrome_Q8MAywmmEa.png', 'chrome_FvPbZuHYsC.png', 'chrome_L86X6fSjks.png', 'chrome_jwUNW23r10.png', 'chrome_hSLOXTuwu9.png', 'chrome_3DpVycAaVH.png', 'chrome_OmTAL4v3e5.png', 'chrome_rK2G4uWdMC.png', 'chrome_YFG4B7V02q.png', 'chrome_UaaK1SAcll.png', 'chrome_U2S4cBfAmh.png', 'chrome_dgvGxLCLGr.png', 'chrome_8o1hjq6U7G.png', 'chrome_O062QSWDFh.png', 'chrome_mduGMqa9Jm.png', 'chrome_eOekv0tsKE.png', 'chrome_EugWPsqGuz.png', 'chrome_zPXji8CNXY.png', 'chrome_QUwyHbEkxV.png', 'chrome_Q5ayXQGBTw.png', 'chrome_RqOvMkSXBy.png', 'chrome_Re4UHkzEWG.png', 'chrome_hbrxh5EdCW.png', 'chrome_FBx12UZfbh.png', 'chrome_QzRBmCdeBx.png', 'chrome_ifkW7Kbbas.png', 'chrome_fsqwQBnMd6.png', 'chrome_HWVxAEqFUt.png', 'chrome_pkfBwJvyTS.png', 'chrome_hssgbTcbgH.png', 'chrome_1QVQ3By6ZF.png', 'chrome_dMw7hvcyGT.png', 'chrome_WA5ZuemAGP.png', 'chrome_yKqj4j7y1b.png', 'chrome_zukj99hpFn.png', 'chrome_AFB5QUD7va.png', 'chrome_45unCHU1eR.png', 'chrome_hCWmfpVrkP.png', 'chrome_lLYDnXhHiE.png', 'chrome_tgKhH8mzzH.png', 'chrome_Wiyk97YRN3.png', 'chrome_Gv7uwmShBI.png', 'chrome_MeiS2azATi.png', 'chrome_TD23lazbN4.png', 'chrome_cb3GuhGivs.png', 'chrome_5guEJuX7L6.png', 'chrome_PUseT7nyPs.png', 'chrome_GZsrGu0leg.png', 'chrome_sTE6pr0UW7.png', 'chrome_ZzQLLqueKT.png', 'chrome_OjM1dXcu5r.png', 'chrome_9HFJTdtgkq.png', 'chrome_jGdSsnW9oc.png', 'chrome_G1L1qMTnta.png', 'chrome_C7eCDXbJFV.png', 'chrome_lFxvov6ac3.png', 'chrome_rosfF50X0a.png', 'chrome_kzlcdgKq2s.png', 'chrome_hj67tKAG8t.png', 'chrome_Xr51tZU7mv.png', 'chrome_cla9Tcd0rF.png', 'chrome_1yLfRxuKeH.png', 'chrome_37eLSGqcDH.png', 'chrome_Jp3CkulgJS.png', 'chrome_1zqFdEaW8k.png', 'chrome_BQCi1l0PXe.png', 'chrome_8JEUTNFk6p.png', 'chrome_z0iXuieYDN.png', 'chrome_FMowC8zIYm.png', 'chrome_GYkWsJB1NN.png', 'chrome_Nj3kZnTNqO.png', 'chrome_TArnQv2NFa.png', 'chrome_CDNXXA3Tx9.png', 'chrome_U2UpustpBR.png', 'chrome_x91I3FLWES.png', 'chrome_w0mQvc6ncx.png', 'chrome_1oHvZcOnKE.png', 'chrome_zqWaPLJ9KV.png', 'chrome_kZo5EgTcYv.png', 'chrome_ykv8tmudmT.png', 'chrome_WG59Ws3yNo.png', 'chrome_BefZzyTOZL.png', 'chrome_IbOCyMo4Dg.png', 'chrome_NNNgAPx44t.png', 'chrome_HPtRFvrqHz.png', 'chrome_2mVTiJZjjU.png', 'chrome_TivqE4Fn40.png', 'chrome_EL8XHqRD7Q.png', 'chrome_dmwuP9nMzB.png', 'chrome_BZMk40z2Fc.png', 'chrome_WMQbjJTV9T.png', 'chrome_9us5Sy51Dc.png']\n"
     ]
    }
   ],
   "source": [
    "import os\n",
    "from os.path import isfile, join\n",
    "from PIL import Image, ImageEnhance\n",
    "\n",
    "threshold = 191  # range from 0 to 255\n",
    "\n",
    "kioskPath = \"./MyBookScreensFolder/\"\n",
    "files = [f for f in os.listdir(pathIn) if isfile(join(pathIn, f))]\n",
    "files.sort(key=lambda f: os.path.getmtime(join(pathIn, f)))\n",
    "\n",
    "# page zone + upscale and enhancing\n",
    "images = [\n",
    "    ImageEnhance.Contrast(Image.open(kioskPath + f).convert('RGB').crop((315, 103, 1603, 1008))).enhance(1).resize((2570, 1800), Image.LANCZOS)\n",
    "    for f in files\n",
    "]\n",
    "\n",
    "print(\"Screens processed:\")\n",
    "print(files)\n",
    "\n",
    "pdf_path = \"Book.pdf\"\n",
    "    \n",
    "images[0].save(\n",
    "    pdf_path, \"PDF\" ,quality=100,resolution=100.0, save_all=True, append_images=images[1:]\n",
    ")\n",
    "\n",
    "print(\"Done.\")"
   ]
  },
  {
   "cell_type": "code",
   "execution_count": null,
   "id": "working-hampshire",
   "metadata": {},
   "outputs": [],
   "source": []
  },
  {
   "cell_type": "code",
   "execution_count": null,
   "id": "combined-weight",
   "metadata": {},
   "outputs": [],
   "source": []
  }
 ],
 "metadata": {
  "kernelspec": {
   "display_name": "Python 3",
   "language": "python",
   "name": "python3"
  },
  "language_info": {
   "codemirror_mode": {
    "name": "ipython",
    "version": 3
   },
   "file_extension": ".py",
   "mimetype": "text/x-python",
   "name": "python",
   "nbconvert_exporter": "python",
   "pygments_lexer": "ipython3",
   "version": "3.7.9"
  }
 },
 "nbformat": 4,
 "nbformat_minor": 5
}
